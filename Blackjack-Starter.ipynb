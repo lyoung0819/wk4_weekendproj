{
 "cells": [
  {
   "cell_type": "markdown",
   "metadata": {},
   "source": [
    "## Python Blackjack\n",
    "For this project you will make a Blackjack game using Python. Click <a href=\"http://www.hitorstand.net/strategy.php\">here</a> to familiarize yourself with the the rules of the game. You won't be implementing every rule \"down to the letter\" with the game, but we will doing a simpler version of the game. This assignment will be given to further test your knowledge on object-oriented programming concepts.\n",
    "\n",
    "### Rules:\n",
    "\n",
    "`1. ` The game will have two players: the Dealer and the Player. The game will start off with a deck of 52 cards. The 52 cards will consist of 4 different suits: Clubs, Diamonds, Hearts and Spades. For each suit, there will be cards numbered 1 through 13. <br>\n",
    "**Note: No wildcards will be used in the program**\n",
    "\n",
    "`2. ` When the game begins, the dealer will shuffle the deck of cards, making them randomized. After the dealer shuffles, it will deal the player 2 cards and will deal itself 2 cards from. The Player should be able to see both of their own cards, but should only be able to see one of the Dealer's cards.\n",
    " \n",
    "`3. ` The objective of the game is for the Player to count their cards after they're dealt. If they're not satisfied with the number, they have the ability to 'Hit'. A hit allows the dealer to deal the Player one additional card. The Player can hit as many times as they'd like as long as they don't 'Bust'. A bust is when the Player is dealt cards that total more than 21.\n",
    "\n",
    "`4. ` If the dealer deals the Player cards equal to 21 on the **first** deal, the Player wins. This is referred to as Blackjack. Blackjack is **NOT** the same as getting cards that equal up to 21 after the first deal. Blackjack can only be attained on the first deal.\n",
    "\n",
    "`5. ` The Player will never see the Dealer's hand until the Player chooses to 'stand'. A Stand is when the player tells the dealer to not deal it anymore cards. Once the player chooses to Stand, the Player and the Dealer will compare their hands. Whoever has the higher number wins. Keep in mind that the Dealer can also bust. "
   ]
  },
  {
   "cell_type": "code",
   "execution_count": null,
   "metadata": {},
   "outputs": [],
   "source": [
    "#Psuedo Code:\n",
    "\n",
    "#OBJECTS(CLASSES):\n",
    "    # Dealer - (actions)\n",
    "    #     deal\n",
    "    # Dealer Points - (data)\n",
    "    \n",
    "    # Player - (actions)\n",
    "    #     hit \n",
    "    #     stand\n",
    "    # Player Points - (data)\n",
    "    \n",
    "    # 52 Card Deck < 4 suits < each with a numbered 1-13 card - (data)\n",
    "        # random integer \n",
    "    \n",
    "    # Main\n",
    "    #     instantiates dealer & player\n",
    "    #     dealer shuffles, and gives player 2 cards\n",
    "    #     player options\n",
    "    #         hit\n",
    "    #         stand\n",
    "    \n",
    "    \n",
    "#OPERATIONS(METHODS):\n",
    "    # 1. Game begins (MAIN)\n",
    "    # 2. Dealer shuffles card, making them randomized (SHUFFLE / DEAL)\n",
    "    # 3. Dealer will deal 2 cards for dealer, 2 cards for player \n",
    "        # (the player can see both of their cards, but only 1 of the dealer's)\n",
    "\n",
    "    # 4. Player adds two cards together to determine what number they're at \n",
    "        # if both cards equal 21, player wins and gets blackjack (this is ONLY on the first deal) (BLACKJACK)\n",
    "    # 5. Player decides if they want another card and has 2 options:\n",
    "        # 1. Hit - get another random card added to their hand(total) (HIT)\n",
    "                # (player can hit until they bust, reach 22 or above)\n",
    "                # player can hit 21 \n",
    "        # 2. Stand - lock in their current number to be compared to dealer's hand (STAND)\n",
    "        \n",
    "    #6. Once player 'Stands', player cards are compared to dealer's\n",
    "        # Whoever has the higher number, wins. (Dealer's can bust as well)"
   ]
  },
  {
   "cell_type": "code",
   "execution_count": 5,
   "metadata": {},
   "outputs": [
    {
     "name": "stdout",
     "output_type": "stream",
     "text": [
      "apple\n"
     ]
    }
   ],
   "source": [
    "import random"
   ]
  },
  {
   "cell_type": "code",
   "execution_count": 36,
   "metadata": {},
   "outputs": [
    {
     "ename": "SyntaxError",
     "evalue": "'return' outside function (3048514447.py, line 3)",
     "output_type": "error",
     "traceback": [
      "\u001b[0;36m  Cell \u001b[0;32mIn[36], line 3\u001b[0;36m\u001b[0m\n\u001b[0;31m    return 'PLAYER WINS!'\u001b[0m\n\u001b[0m    ^\u001b[0m\n\u001b[0;31mSyntaxError\u001b[0m\u001b[0;31m:\u001b[0m 'return' outside function\n"
     ]
    }
   ],
   "source": [
    "player_pts = 0\n",
    "if player_pts == 21:\n",
    "    print('PLAYER WINS!)\n",
    "elif player_pts > 21:\n",
    "    player_pts = 0\n",
    "    print('PLAYER BUSTS...')\n",
    "    #if player pts hit 21, player wins\n",
    "    #if player pts exceed 21, player busts & resets\n",
    "dealer_pts = 0\n",
    "if dealer_pts == 21:\n",
    "    print('DEALER WINS!')\n",
    "elif dealer_pts > 21:\n",
    "    dealer_pts = 0\n",
    "    print('DEALER BUSTS...')\n",
    "    #if dealer pts exceed 21, player busts & resets\n",
    "    \n",
    "    \n",
    "class Deck():\n",
    "    def __init__(self):\n",
    "        self.suits = ['Clubs', 'Diamonds', 'Hearts', 'Spades']\n",
    "        self.cardnum = [1, 2, 3, 4, 5, 6, 7, 8, 9, 10, 11, 12, 13]\n",
    "    \n",
    "    def deal_player(self):\n",
    "        select_suit = random.choice(self.suits)\n",
    "        select_cardnum = random.choice(self.cardnum)\n",
    "        \n",
    "        print(f\"Cards: {select_cardnum} of {select_suit}\")\n",
    "    \n",
    "    def deal_dealer(self):\n",
    "        select_suit = random.choice(self.suits)\n",
    "        select_cardnum = random.choice(self.cardnum)\n",
    "        \n",
    "        print(f\"Cards: {select_cardnum} of {select_suit}\")\n",
    "        \n",
    "        \n",
    "        \n",
    "\n",
    "# class Player(): \n",
    "#     def __init__(self):\n",
    "#         self.player_pts = 0\n",
    "        \n",
    "        \n",
    "# class Dealer(): \n",
    "#     def __init__(self):\n",
    "#         self.dealer_pts = 0\n",
    "\n",
    "        \n",
    "class Blackjack():\n",
    "    print(f'Hello and welcome to Blackjack! Dealing your cards...')\n",
    "    deck = Deck()   \n",
    "    dealer = Dealer()\n",
    "    player = Player()\n",
    "    print(f'\\nPlayer is dealt... ')\n",
    "    x = deck.deal_player()\n",
    "    y = deck.deal_player()\n",
    "    print(f'\\nDealer is dealt... ')\n",
    "    z = deck.deal_dealer()\n",
    "    deck.deal_dealer() # hide but still count the amount? \n",
    "    player_move = input(f\"Your card values equal {x+y}'... What would you like to do? Hit or Stand?\").lower()\n",
    "    if player_move == 'hit':\n",
    "        deck.deal_player()\n",
    "    elif player_move == 'stand':\n",
    "        compare_hands()\n",
    "    \n",
    "    \n",
    "          \n",
    "          \n",
    "    #IDK WHERE TO PUT U AGH\n",
    "    def compare_hands(self):\n",
    "        self.player_pts = player_score\n",
    "        self.dealer_pts = dealer_score\n",
    "        if player_score > dealer_score:\n",
    "            return 'PLAYER WINS!'\n",
    "        elif dealer_score > player_score:\n",
    "            return 'DEALER WINS...'\n",
    "        else:\n",
    "            return 'ITS A TIE'\n",
    "    \n",
    "        \n",
    "def main():\n",
    "    print('Welcome to BlackJack!')\n",
    "    Blackjack()\n",
    "    \n",
    "\n",
    "        \n",
    "\n"
   ]
  },
  {
   "cell_type": "code",
   "execution_count": null,
   "metadata": {},
   "outputs": [],
   "source": []
  },
  {
   "cell_type": "code",
   "execution_count": null,
   "metadata": {},
   "outputs": [],
   "source": []
  },
  {
   "cell_type": "code",
   "execution_count": null,
   "metadata": {},
   "outputs": [],
   "source": []
  }
 ],
 "metadata": {
  "kernelspec": {
   "display_name": "Python 3 (ipykernel)",
   "language": "python",
   "name": "python3"
  },
  "language_info": {
   "codemirror_mode": {
    "name": "ipython",
    "version": 3
   },
   "file_extension": ".py",
   "mimetype": "text/x-python",
   "name": "python",
   "nbconvert_exporter": "python",
   "pygments_lexer": "ipython3",
   "version": "3.11.5"
  }
 },
 "nbformat": 4,
 "nbformat_minor": 2
}
