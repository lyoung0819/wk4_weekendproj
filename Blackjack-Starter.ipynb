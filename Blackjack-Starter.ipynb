{
 "cells": [
  {
   "cell_type": "markdown",
   "metadata": {},
   "source": [
    "## Python Blackjack\n",
    "For this project you will make a Blackjack game using Python. Click <a href=\"http://www.hitorstand.net/strategy.php\">here</a> to familiarize yourself with the the rules of the game. You won't be implementing every rule \"down to the letter\" with the game, but we will doing a simpler version of the game. This assignment will be given to further test your knowledge on object-oriented programming concepts.\n",
    "\n",
    "### Rules:\n",
    "\n",
    "`1. ` The game will have two players: the Dealer and the Player. The game will start off with a deck of 52 cards. The 52 cards will consist of 4 different suits: Clubs, Diamonds, Hearts and Spades. For each suit, there will be cards numbered 1 through 13. <br>\n",
    "**Note: No wildcards will be used in the program**\n",
    "\n",
    "`2. ` When the game begins, the dealer will shuffle the deck of cards, making them randomized. After the dealer shuffles, it will deal the player 2 cards and will deal itself 2 cards from. The Player should be able to see both of their own cards, but should only be able to see one of the Dealer's cards.\n",
    " \n",
    "`3. ` The objective of the game is for the Player to count their cards after they're dealt. If they're not satisfied with the number, they have the ability to 'Hit'. A hit allows the dealer to deal the Player one additional card. The Player can hit as many times as they'd like as long as they don't 'Bust'. A bust is when the Player is dealt cards that total more than 21.\n",
    "\n",
    "`4. ` If the dealer deals the Player cards equal to 21 on the **first** deal, the Player wins. This is referred to as Blackjack. Blackjack is **NOT** the same as getting cards that equal up to 21 after the first deal. Blackjack can only be attained on the first deal.\n",
    "\n",
    "`5. ` The Player will never see the Dealer's hand until the Player chooses to 'stand'. A Stand is when the player tells the dealer to not deal it anymore cards. Once the player chooses to Stand, the Player and the Dealer will compare their hands. Whoever has the higher number wins. Keep in mind that the Dealer can also bust. "
   ]
  },
  {
   "cell_type": "code",
   "execution_count": null,
   "metadata": {},
   "outputs": [],
   "source": [
    "#Psuedo Code:\n",
    "\n",
    "#OBJECTS(CLASSES):\n",
    "    # Dealer - (actions)\n",
    "    #     deal\n",
    "    # Dealer Points - (data)\n",
    "    \n",
    "    # Player - (actions)\n",
    "    #     hit \n",
    "    #     stand\n",
    "    # Player Points - (data)\n",
    "    \n",
    "    # 52 Card Deck < 4 suits < each with a numbered 1-13 card - (data)\n",
    "        # random integer \n",
    "    \n",
    "    # Main\n",
    "    #     instantiates dealer & player\n",
    "    #     dealer shuffles, and gives player 2 cards\n",
    "    #     player options\n",
    "    #         hit\n",
    "    #         stand\n",
    "    \n",
    "    \n",
    "#OPERATIONS(METHODS):\n",
    "    # 1. Game begins (MAIN)\n",
    "    # 2. Dealer shuffles card, making them randomized (SHUFFLE / DEAL)\n",
    "    # 3. Dealer will deal 2 cards for dealer, 2 cards for player \n",
    "        # (the player can see both of their cards, but only 1 of the dealer's)\n",
    "\n",
    "    # 4. Player adds two cards together to determine what number they're at \n",
    "        # if both cards equal 21, player wins and gets blackjack (this is ONLY on the first deal) (BLACKJACK)\n",
    "    # 5. Player decides if they want another card and has 2 options:\n",
    "        # 1. Hit - get another random card added to their hand(total) (HIT)\n",
    "                # (player can hit until they bust, reach 22 or above)\n",
    "                # player can hit 21 \n",
    "        # 2. Stand - lock in their current number to be compared to dealer's hand (STAND)\n",
    "        \n",
    "    #6. Once player 'Stands', player cards are compared to dealer's\n",
    "        # Whoever has the higher number, wins. (Dealer's can bust as well)"
   ]
  },
  {
   "cell_type": "code",
   "execution_count": 15,
   "metadata": {},
   "outputs": [
    {
     "name": "stdout",
     "output_type": "stream",
     "text": [
      "elderberry\n"
     ]
    }
   ],
   "source": [
    "import random\n",
    "\n",
    "# List of items\n",
    "items = ['apple', 'banana', 'cherry', 'date', 'elderberry']\n",
    "\n",
    "# Select a random item\n",
    "selected_item = random.choice(items)\n",
    "\n",
    "print(selected_item)"
   ]
  },
  {
   "cell_type": "code",
   "execution_count": 24,
   "metadata": {},
   "outputs": [
    {
     "name": "stdout",
     "output_type": "stream",
     "text": [
      "Card: 11 of Spades\n"
     ]
    }
   ],
   "source": [
    "class Deck():\n",
    "    def __init__(self):\n",
    "        self.suits = ['Clubs', 'Diamonds', 'Hearts', 'Spades']\n",
    "        self.cardnum = [1, 2, 3, 4, 5, 6, 7, 8, 9, 10, 11, 12, 13]\n",
    "    \n",
    "    def deal(self):\n",
    "        deck_of_cards = Deck()\n",
    "        select_suit = random.choice(self.suits)\n",
    "        select_cardnum = random.choice(self.cardnum)\n",
    "        print(f\"Card: {select_cardnum} of {select_suit}\")\n",
    "\n",
    "\n",
    "        \n",
    "\n",
    "class Player(): # ONLY TO KEEP TRACK OF POINTS\n",
    "    def __init__(self):\n",
    "        self.player_pts = 0\n",
    "        \n",
    "        \n",
    "class Dealer(): # ONLY TO KEEP TRACK OF POINTS\n",
    "    def __init__(self):\n",
    "        self.dealer_pts = 0\n",
    "\n",
    "\n",
    "\n",
    "def Main():\n",
    "    print('Welcome to BlackJack!')\n",
    "    player = Player() # will open starting player points\n",
    "    dealer = Dealer() # will open starting dealer points\n",
    "    deck = Deck() # instantiate deck of cards\n",
    "    \n",
    "    \n",
    "#     player != busted\n",
    "#     while player:\n",
    "#         if player.player_pts > 21\n",
    "#             player == busted\n",
    "#             print('Oh No! You have busted!')\n",
    "        \n",
    "\n",
    "\n"
   ]
  },
  {
   "cell_type": "code",
   "execution_count": null,
   "metadata": {},
   "outputs": [],
   "source": [
    "# ACTION CLASSES"
   ]
  },
  {
   "cell_type": "code",
   "execution_count": null,
   "metadata": {},
   "outputs": [],
   "source": []
  },
  {
   "cell_type": "code",
   "execution_count": null,
   "metadata": {},
   "outputs": [],
   "source": []
  }
 ],
 "metadata": {
  "kernelspec": {
   "display_name": "Python 3 (ipykernel)",
   "language": "python",
   "name": "python3"
  },
  "language_info": {
   "codemirror_mode": {
    "name": "ipython",
    "version": 3
   },
   "file_extension": ".py",
   "mimetype": "text/x-python",
   "name": "python",
   "nbconvert_exporter": "python",
   "pygments_lexer": "ipython3",
   "version": "3.11.5"
  }
 },
 "nbformat": 4,
 "nbformat_minor": 2
}
